{
 "cells": [
  {
   "cell_type": "markdown",
   "metadata": {},
   "source": [
    "<h2> Introduction to HMMs</h2>\n",
    "<h5>Sample Problem</h5>"
   ]
  },
  {
   "cell_type": "markdown",
   "metadata": {},
   "source": [
    "<img src=\"https://miro.medium.com/max/1000/1*0xjHjL19uK0d6llcEJ0Z0w.png\" style=\"width:500px ;height:370px ;margin :auto\">"
   ]
  },
  {
   "cell_type": "code",
   "execution_count": 27,
   "metadata": {
    "collapsed": true
   },
   "outputs": [],
   "source": [
    "events = 3 # EVENTS\n",
    "states =2 # HIDDEN STATES\n",
    "\n",
    "import numpy as np "
   ]
  },
  {
   "cell_type": "code",
   "execution_count": 39,
   "metadata": {
    "collapsed": true
   },
   "outputs": [],
   "source": [
    "init = np.array([0.6,0.4]) # INITIAL DISTRIBUTION (Pi)\n",
    "transition_matrix =np.array([[0.7,0.3],[0.4,0.6]]) # TRANSITION MATRIX (A)\n",
    "emission_matrix = np.array([[0.1,0.6],[0.4,0.3],[0.5,0.1]]) #EMISSION MATRIX (B)"
   ]
  },
  {
   "cell_type": "code",
   "execution_count": 40,
   "metadata": {},
   "outputs": [
    {
     "name": "stdout",
     "output_type": "stream",
     "text": [
      "(2,)\n",
      "(2, 2)\n",
      "(3, 2)\n"
     ]
    }
   ],
   "source": [
    "print(init.shape)\n",
    "print(transition_matrix.shape)\n",
    "print(emission_matrix.shape)\n"
   ]
  },
  {
   "cell_type": "code",
   "execution_count": 41,
   "metadata": {
    "collapsed": true
   },
   "outputs": [],
   "source": [
    "def forward(seq,time):\n",
    "    if time==0:\n",
    "        p = (init*emission_matrix[seq[time]])\n",
    "        \n",
    "        return p\n",
    "    else:\n",
    "        x = (emission_matrix[seq[time]]@transition_matrix.T)*forward(seq,time-1)\n",
    "        \n",
    "        return x"
   ]
  },
  {
   "cell_type": "code",
   "execution_count": 42,
   "metadata": {
    "collapsed": true
   },
   "outputs": [],
   "source": [
    "#VITERBI\n",
    "def Viterbi(seq,time):\n",
    "    if time==0:\n",
    "        p =init*emission_matrix[seq[time]]\n",
    "        print(np.argmax(p)) # MOST PROBABLE INITIAL STATE\n",
    "        \n",
    "        # \n",
    "        return max(p)\n",
    "    else:\n",
    "        \n",
    "        x =(emission_matrix[seq[time]]@transition_matrix.T)*Viterbi(seq,time-1).T\n",
    "        # MOST PROBABLE STATE FOR TIME t!=0 \n",
    "        print(np.argmax(x)) \n",
    "        \n",
    "        \n",
    "        # PROBABILITY FOR x\n",
    "        return x[np.argmax(x)]"
   ]
  },
  {
   "cell_type": "code",
   "execution_count": 44,
   "metadata": {},
   "outputs": [
    {
     "name": "stdout",
     "output_type": "stream",
     "text": [
      "0\n",
      "0\n",
      "0\n"
     ]
    },
    {
     "data": {
      "text/plain": [
       "0.04332"
      ]
     },
     "execution_count": 44,
     "metadata": {},
     "output_type": "execute_result"
    }
   ],
   "source": [
    "seq = [2,2,2] # test observed sequence\n",
    "Viterbi(seq,2)  # underlying most probable state sequence with probability P(X|O=seq)"
   ]
  },
  {
   "cell_type": "code",
   "execution_count": null,
   "metadata": {
    "collapsed": true
   },
   "outputs": [],
   "source": []
  },
  {
   "cell_type": "code",
   "execution_count": null,
   "metadata": {
    "collapsed": true
   },
   "outputs": [],
   "source": []
  },
  {
   "cell_type": "code",
   "execution_count": null,
   "metadata": {
    "collapsed": true
   },
   "outputs": [],
   "source": []
  },
  {
   "cell_type": "code",
   "execution_count": null,
   "metadata": {
    "collapsed": true
   },
   "outputs": [],
   "source": []
  }
 ],
 "metadata": {
  "kernelspec": {
   "display_name": "Python 3",
   "language": "python",
   "name": "python3"
  },
  "language_info": {
   "codemirror_mode": {
    "name": "ipython",
    "version": 3
   },
   "file_extension": ".py",
   "mimetype": "text/x-python",
   "name": "python",
   "nbconvert_exporter": "python",
   "pygments_lexer": "ipython3",
   "version": "3.6.1"
  }
 },
 "nbformat": 4,
 "nbformat_minor": 2
}
