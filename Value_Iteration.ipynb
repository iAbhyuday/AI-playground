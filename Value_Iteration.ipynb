{
 "cells": [
  {
   "cell_type": "code",
   "execution_count": null,
   "metadata": {},
   "outputs": [],
   "source": [
    "\n",
    "\n",
    "# Author : Abhyuday Tripathi\n",
    "# Date :  5-04-2020\n",
    "# Ref. Book : Reinforcement Learning An Introduction\n",
    "\n",
    "\n",
    "\n"
   ]
  },
  {
   "cell_type": "code",
   "execution_count": 22,
   "metadata": {},
   "outputs": [],
   "source": [
    "import numpy as np\n",
    "import seaborn as sns;sns.set()\n",
    "import matplotlib.pyplot as plt"
   ]
  },
  {
   "cell_type": "code",
   "execution_count": 23,
   "metadata": {},
   "outputs": [],
   "source": [
    "STATES = 12"
   ]
  },
  {
   "cell_type": "code",
   "execution_count": 24,
   "metadata": {},
   "outputs": [],
   "source": [
    "board=[]\n",
    "for i in range(3):\n",
    "    row=[]\n",
    "    for j in range(4):\n",
    "        row.append(1)\n",
    "    board.append(row)"
   ]
  },
  {
   "cell_type": "code",
   "execution_count": 25,
   "metadata": {},
   "outputs": [],
   "source": [
    "up_transition = np.zeros((12,12))"
   ]
  },
  {
   "cell_type": "code",
   "execution_count": 26,
   "metadata": {},
   "outputs": [],
   "source": [
    "board= np.array(board)"
   ]
  },
  {
   "cell_type": "code",
   "execution_count": 27,
   "metadata": {},
   "outputs": [],
   "source": [
    "for i in range(STATES):\n",
    "    x = 2-i//4   # Board[2][0] is state 1 and Board[0][3] is state 12\n",
    "    y = 0+i%4\n",
    "    if(x-1<0):\n",
    "        up_transition[i][i] += 0.8\n",
    "    else:\n",
    "        up_transition[i][i+4] += 0.8\n",
    "    if(y-1<0):\n",
    "        up_transition[i][i] += 0.1\n",
    "    else:\n",
    "        up_transition[i][i-1] += 0.1\n",
    "    if(y+1>3):\n",
    "        up_transition[i][i] += 0.1\n",
    "    else:\n",
    "        up_transition[i][i+1] += 0.1\n",
    "    \n",
    "        \n",
    "            \n",
    "        "
   ]
  },
  {
   "cell_type": "code",
   "execution_count": 28,
   "metadata": {},
   "outputs": [],
   "source": [
    "down_transition = np.zeros((12,12))\n",
    "for i in range(STATES):\n",
    "    x = 2-i//4   # Board[2][0] is state 1 and Board[0][3] is state 12\n",
    "    y = 0+i%4\n",
    "    if(x+1>2):\n",
    "        down_transition[i][i] += 0.8\n",
    "    else:\n",
    "        down_transition[i][i-4] += 0.8\n",
    "    if(y-1<0):\n",
    "        down_transition[i][i] += 0.1\n",
    "    else:\n",
    "        down_transition[i][i-1] += 0.1\n",
    "    if(y+1>3):\n",
    "        down_transition[i][i] += 0.1\n",
    "    else:\n",
    "        down_transition[i][i+1] += 0.1\n",
    "    "
   ]
  },
  {
   "cell_type": "code",
   "execution_count": 29,
   "metadata": {},
   "outputs": [],
   "source": [
    "left_transition = np.zeros((12,12))\n",
    "for i in range(STATES):\n",
    "    x = 2-i//4\n",
    "    y = 0+i%4    # Board[2][0] is state 1 and Board[0][3] is state 12\n",
    "    if(x+1>2):\n",
    "        left_transition[i][i] += 0.1\n",
    "    else:\n",
    "        left_transition[i][i-4] += 0.1\n",
    "    if(y-1<0):\n",
    "        left_transition[i][i] += 0.8\n",
    "    else:\n",
    "        left_transition[i][i-1] += 0.8\n",
    "    if(x-1<0):\n",
    "        left_transition[i][i] += 0.1\n",
    "    else:\n",
    "        left_transition[i][i+1] += 0.1"
   ]
  },
  {
   "cell_type": "code",
   "execution_count": 30,
   "metadata": {},
   "outputs": [],
   "source": [
    "right_transition = np.zeros((12,12))\n",
    "for i in range(STATES):\n",
    "    x = 2-i//4   # Board[2][0] is state 1 and Board[0][3] is state 12\n",
    "    y = 0+i%4\n",
    "    if(x+1>2):\n",
    "        right_transition[i][i] += 0.1\n",
    "    else:\n",
    "        right_transition[i][i-4] += 0.1\n",
    "    if(y+1>3):\n",
    "        right_transition[i][i] += 0.8\n",
    "    else:\n",
    "        right_transition[i][i+1] += 0.8\n",
    "    if(x-1<0):\n",
    "        right_transition[i][i] += 0.1\n",
    "    else:\n",
    "        right_transition[i][i+4] += 0.1"
   ]
  },
  {
   "cell_type": "code",
   "execution_count": 31,
   "metadata": {},
   "outputs": [],
   "source": [
    "# filtering probabilities for the wall\n",
    "for i in range(STATES):\n",
    "    if(up_transition[i][5]!=0):\n",
    "        up_transition[i][i]+=up_transition[i][5]\n",
    "        up_transition[i][5]=0\n",
    "    if(down_transition[i][5]!=0):\n",
    "        down_transition[i][i]+=down_transition[i][5]\n",
    "        down_transition[i][5]=0\n",
    "        \n",
    "    if(left_transition[i][5]!=0):\n",
    "        left_transition[i][i]+=left_transition[i][5]\n",
    "        left_transition[i][5]=0\n",
    "    if(right_transition[i][5]!=0):\n",
    "        right_transition[i][i]+=right_transition[i][5]\n",
    "        right_transition[i][5]=0\n",
    "        "
   ]
  },
  {
   "cell_type": "code",
   "execution_count": 32,
   "metadata": {},
   "outputs": [],
   "source": [
    "# transition probabilities ( number_of_actions x number_of_from_states x number_of_to_states )\n",
    "# channel 1 : for upward action\n",
    "# channel 2 : for downward action\n",
    "# channel 3 : left action\n",
    "# channel 4 : Right action\n",
    "probs = np.array([up_transition,down_transition,left_transition,right_transition])\n",
    "## Transition probabilities for wall and terminal states\n",
    "probs[0][11]*=0\n",
    "probs[0][7]*=0\n",
    "probs[0][5]*=0\n",
    "probs[1][11]*=0\n",
    "probs[1][7]*=0\n",
    "probs[1][5]*=0\n",
    "probs[2][11]*=0\n",
    "probs[2][7]*=0\n",
    "probs[2][5]*=0\n",
    "probs[3][11]*=0\n",
    "probs[3][7]*=0\n",
    "probs[3][5]*=0"
   ]
  },
  {
   "cell_type": "code",
   "execution_count": 38,
   "metadata": {},
   "outputs": [],
   "source": [
    "def valueIteration(t_probs,reward_dist,value,gamma=0.9):\n",
    "    theta = 0.00000001\n",
    "    delta = np.ones((12,1))\n",
    "    history=[]\n",
    "    while(np.max(delta)>=theta):\n",
    "        \n",
    "        delta = np.zeros((12,1))\n",
    "        v= value.copy()\n",
    "        value = np.max(t_probs@reward_dist + (t_probs@value)*gamma,axis=0)\n",
    "    \n",
    "        delta = np.maximum(delta,np.absolute(v-value))\n",
    "        #theta/=10\n",
    "        \n",
    "        history.append(np.max(delta))\n",
    "    newVal = t_probs@reward_dist + (t_probs@value)*gamma\n",
    "    policy = np.argmax(newVal,axis=0)\n",
    "    return policy,value,history\n",
    "        \n",
    "    "
   ]
  },
  {
   "cell_type": "code",
   "execution_count": 39,
   "metadata": {},
   "outputs": [],
   "source": [
    "## R(S)\n",
    "rewards = np.array([-0.04,-0.04,-0.04,-0.04,-0.04,-100,-0.04,-1,-0.04,-0.04,-0.04,1]).reshape(12,1)\n",
    "rew1 =  np.array([-2,-2,-2,-2,-2,0,-2,-1,-2,-2,-2,1]).reshape(12,1)\n",
    "rew2 =  np.array([0.1,0.1,0.1,0.1,0.1,0,0.1,-1,0.1,0.1,0.1,1]).reshape(12,1)\n",
    "rew3 =  np.array([0.02,0.02,0.02,0.02,0.02,0,0.02,-1,0.02,0.02,0.02,1]).reshape(12,1)\n",
    "rew4 =  np.array([1,1,1,1,1,0,1,-1,1,1,1,1]).reshape(12,1)"
   ]
  },
  {
   "cell_type": "code",
   "execution_count": 40,
   "metadata": {},
   "outputs": [
    {
     "name": "stdout",
     "output_type": "stream",
     "text": [
      "[[ 0.37526518  0.27917612  0.4438194  -0.73607153  0.48723473  0.\n",
      "   0.58493384  0.          0.52343267  0.65014687  0.80124843  0.        ]\n",
      " [ 0.29464711  0.27917612  0.342217    0.28780626  0.31789318  0.\n",
      "   0.23619401  0.          0.4347092   0.65014687  0.554111    0.        ]\n",
      " [ 0.29464711  0.30081699  0.27738698  0.35538582  0.38843399  0.\n",
      "   0.32509611  0.          0.49832516  0.53744975  0.64784936  0.        ]\n",
      " [ 0.2830835   0.34091459  0.30846558  0.15186251  0.39952443  0.\n",
      "  -0.68452003  0.          0.61046177  0.76620707  0.92818027  0.        ]]\n"
     ]
    },
    {
     "data": {
      "text/plain": [
       "(4, 12)"
      ]
     },
     "execution_count": 40,
     "metadata": {},
     "output_type": "execute_result"
    }
   ],
   "source": [
    "policy,value,hist=valueIteration(probs,rewards,np.zeros((12,1)))\n",
    "policy1,value1,hist1=valueIteration(probs,rew1,np.zeros((12,1)))\n",
    "policy2,value2,hist2=valueIteration(probs,rew2,np.zeros((12,1)))\n",
    "policy3,value3,hist3=valueIteration(probs,rew3,np.zeros((12,1)))\n",
    "policy4,value4,hist4=valueIteration(probs,rew4,np.zeros((12,1)))\n",
    "\n"
   ]
  },
  {
   "cell_type": "code",
   "execution_count": 51,
   "metadata": {},
   "outputs": [
    {
     "data": {
      "image/png": "[encoded data removed]",
      "text/plain": [
       "<Figure size 432x288 with 1 Axes>"
      ]
     },
     "metadata": {},
     "output_type": "display_data"
    }
   ],
   "source": [
    "\n",
    "plt.title(\"MDP Value Convergence\")\n",
    "plt.xlabel(\"epochs\")\n",
    "plt.ylabel(\"Delta\")\n",
    "sns.lineplot(data=np.array(hist),legend=\"brief\",label=\"Default -0.04\")\n",
    "sns.lineplot(data=np.array(hist1),legend=\"brief\",label=\"R = -2\")\n",
    "sns.lineplot(data=np.array(hist2),legend=\"brief\",label=\"R = 0.1\")\n",
    "sns.lineplot(data=np.array(hist3),legend=\"brief\",label=\"R = 0.02\")\n",
    "sns.lineplot(data=np.array(hist4),legend=\"brief\",label=\"R = 1\")\n",
    "plt.show()"
   ]
  },
  {
   "cell_type": "code",
   "execution_count": 44,
   "metadata": {},
   "outputs": [],
   "source": [
    "#action_dict = [\"up\", \"down\",\"left\",\"right\"]\n",
    "action_dict = [\"\\U00002B06\",\"\\U00002B07\",\"\\U00002B05\",\"\\U000027A1\"] # action emojis\n",
    "block =\"\\U0001F6A7\" # wall"
   ]
  },
  {
   "cell_type": "code",
   "execution_count": 45,
   "metadata": {},
   "outputs": [],
   "source": [
    "# visualizing policy\n",
    "\n",
    "def showPolicy(policy):\n",
    "    for i in range(12):\n",
    "        x = 2-(11-i)//4   # Board[2][0] is state 1 and Board[0][3] is state 12\n",
    "        y = 0+(11-i)%4\n",
    "        \n",
    "        board[x][y] = policy[11-i][0]\n",
    "        \n",
    "   \n",
    "    \n",
    "    for i in range(3):\n",
    "        print(\"-----------------------------------\")\n",
    "        print()\n",
    "        print(\"| \",end=\" \")\n",
    "        for j in range(4):\n",
    "            \n",
    "            if(i==1 and j==1):\n",
    "                print(block,end=\"   |   \")\n",
    "            elif(i==0 and j==3):\n",
    "                print(\"\\U0001F911\"+\"+1\",end=\"  |  \")\n",
    "            elif(i==1 and j==3):\n",
    "                print(\"\\U000026D4\"+\"-1\",end=\"  |    \")\n",
    "            else:    \n",
    "                print(action_dict[board[i][j]],end=\"   |   \")\n",
    "        print(\"\\n\")\n",
    "    print(\"-----------------------------------\")\n",
    "  "
   ]
  },
  {
   "cell_type": "code",
   "execution_count": 61,
   "metadata": {},
   "outputs": [
    {
     "name": "stdout",
     "output_type": "stream",
     "text": [
      "-----------------------------------\n",
      "\n",
      "|  ➡   |   ➡   |   ➡   |   🤑+1  |  \n",
      "\n",
      "-----------------------------------\n",
      "\n",
      "|  ⬆   |   🚧   |   ⬆   |   ⛔-1  |    \n",
      "\n",
      "-----------------------------------\n",
      "\n",
      "|  ⬆   |   ➡   |   ⬆   |   ⬅   |   \n",
      "\n",
      "-----------------------------------\n",
      "Value function :  "
     ]
    },
    {
     "data": {
      "text/plain": [
       "array([[0.37526518, 0.34091459, 0.4438194 , 0.35538581, 0.48723473,\n",
       "        0.        , 0.58493384, 0.        , 0.61046177, 0.76620707,\n",
       "        0.92818027, 0.        ]])"
      ]
     },
     "execution_count": 61,
     "metadata": {},
     "output_type": "execute_result"
    }
   ],
   "source": [
    "# R(S) = -0.04\n",
    "showPolicy(policy)\n",
    "print(\"Value function : \",end=\" \")\n",
    "value.T"
   ]
  },
  {
   "cell_type": "code",
   "execution_count": 62,
   "metadata": {},
   "outputs": [
    {
     "name": "stdout",
     "output_type": "stream",
     "text": [
      "-----------------------------------\n",
      "\n",
      "|  ➡   |   ➡   |   ➡   |   🤑+1  |  \n",
      "\n",
      "-----------------------------------\n",
      "\n",
      "|  ⬆   |   🚧   |   ➡   |   ⛔-1  |    \n",
      "\n",
      "-----------------------------------\n",
      "\n",
      "|  ➡   |   ➡   |   ➡   |   ⬆   |   \n",
      "\n",
      "-----------------------------------\n",
      "Value function :  "
     ]
    },
    {
     "data": {
      "text/plain": [
       "array([[-7.32008382, -5.66829053, -3.67777533, -1.68241734, -6.44563443,\n",
       "         0.        , -1.50483402,  0.        , -4.56308366, -2.18374865,\n",
       "         0.2907307 ,  0.        ]])"
      ]
     },
     "execution_count": 62,
     "metadata": {},
     "output_type": "execute_result"
    }
   ],
   "source": [
    "# R(S) = -2\n",
    "showPolicy(policy1)\n",
    "print(\"Value function : \",end=\" \")\n",
    "value1.T"
   ]
  },
  {
   "cell_type": "code",
   "execution_count": 63,
   "metadata": {},
   "outputs": [
    {
     "name": "stdout",
     "output_type": "stream",
     "text": [
      "-----------------------------------\n",
      "\n",
      "|  ➡   |   ➡   |   ⬆   |   🤑+1  |  \n",
      "\n",
      "-----------------------------------\n",
      "\n",
      "|  ⬆   |   🚧   |   ⬆   |   ⛔-1  |    \n",
      "\n",
      "-----------------------------------\n",
      "\n",
      "|  ⬆   |   ⬅   |   ⬅   |   ⬅   |   \n",
      "\n",
      "-----------------------------------\n",
      "Value function :  "
     ]
    },
    {
     "data": {
      "text/plain": [
       "array([[0.99999997, 0.99999996, 0.99999996, 0.99999996, 0.99999997,\n",
       "        0.        , 0.78021976, 0.        , 0.99999998, 0.99999998,\n",
       "        0.99999998, 0.        ]])"
      ]
     },
     "execution_count": 63,
     "metadata": {},
     "output_type": "execute_result"
    }
   ],
   "source": [
    "# R(S) = 0.1\n",
    "showPolicy(policy2)\n",
    "print(\"Value function : \",end=\" \")\n",
    "value2.T"
   ]
  },
  {
   "cell_type": "code",
   "execution_count": 64,
   "metadata": {},
   "outputs": [
    {
     "name": "stdout",
     "output_type": "stream",
     "text": [
      "-----------------------------------\n",
      "\n",
      "|  ➡   |   ➡   |   ➡   |   🤑+1  |  \n",
      "\n",
      "-----------------------------------\n",
      "\n",
      "|  ⬆   |   🚧   |   ⬆   |   ⛔-1  |    \n",
      "\n",
      "-----------------------------------\n",
      "\n",
      "|  ⬆   |   ⬅   |   ⬆   |   ⬅   |   \n",
      "\n",
      "-----------------------------------\n",
      "Value function :  "
     ]
    },
    {
     "data": {
      "text/plain": [
       "array([[0.63362864, 0.58254688, 0.59894495, 0.56512304, 0.70024006,\n",
       "        0.        , 0.66063147, 0.        , 0.76971784, 0.85753004,\n",
       "        0.94885366, 0.        ]])"
      ]
     },
     "execution_count": 64,
     "metadata": {},
     "output_type": "execute_result"
    }
   ],
   "source": [
    "# R(S) = 0.02\n",
    "showPolicy(policy3)\n",
    "print(\"Value function : \",end=\" \")\n",
    "value3.T"
   ]
  },
  {
   "cell_type": "code",
   "execution_count": 65,
   "metadata": {},
   "outputs": [
    {
     "name": "stdout",
     "output_type": "stream",
     "text": [
      "-----------------------------------\n",
      "\n",
      "|  ⬆   |   ⬅   |   ⬅   |   🤑+1  |  \n",
      "\n",
      "-----------------------------------\n",
      "\n",
      "|  ⬆   |   🚧   |   ⬇   |   ⛔-1  |    \n",
      "\n",
      "-----------------------------------\n",
      "\n",
      "|  ⬆   |   ⬆   |   ⬇   |   ⬇   |   \n",
      "\n",
      "-----------------------------------\n",
      "Value function :  "
     ]
    },
    {
     "data": {
      "text/plain": [
       "array([[9.99999991, 9.99999991, 9.99999991, 9.99999991, 9.99999991,\n",
       "        0.        , 8.79120871, 0.        , 9.99999991, 9.99999991,\n",
       "        9.88044913, 0.        ]])"
      ]
     },
     "execution_count": 65,
     "metadata": {},
     "output_type": "execute_result"
    }
   ],
   "source": [
    "# R(S) = 1.0\n",
    "showPolicy(policy4)\n",
    "print(\"Value function : \",end=\" \")\n",
    "value4.T"
   ]
  },
  {
   "cell_type": "code",
   "execution_count": 53,
   "metadata": {},
   "outputs": [],
   "source": []
  }
 ],
 "metadata": {
  "kernelspec": {
   "display_name": "Python 3",
   "language": "python",
   "name": "python3"
  },
  "language_info": {
   "codemirror_mode": {
    "name": "ipython",
    "version": 3
   },
   "file_extension": ".py",
   "mimetype": "text/x-python",
   "name": "python",
   "nbconvert_exporter": "python",
   "pygments_lexer": "ipython3",
   "version": "3.7.6"
  }
 },
 "nbformat": 4,
 "nbformat_minor": 4
}
