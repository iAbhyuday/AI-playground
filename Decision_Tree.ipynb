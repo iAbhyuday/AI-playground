{
 "cells": [
  {
   "cell_type": "markdown",
   "metadata": {},
   "source": [
    "<h1 align=\"center\" style=\"font-family:serif\">Assignment 8</h1> \n",
    "<h2 align=\"center\" style=\"font-family:serif\">Decision Tree Classification</h2>\n",
    "<h3 align=\"center\" style=\"font-family:serif\">Abhyuday Tripathi</h3>"
   ]
  },
  {
   "cell_type": "markdown",
   "metadata": {},
   "source": [
    "<br><br><br>\n",
    "<h2 style=\"font-family:serif\"><b>Problem</b></h2>\n",
    "<body>\n",
    "<p style=\"font-family:serif; font-size:17px\">A car dataset is uploaded in the lab-work folder with a description specifying all the attributes, the values that each attribute can take and the class labels.</p>\n",
    "<ul style=\"font-family:serif; font-size:15px\">\n",
    " <li> Randomly select 60 percent of labelled data (from each class) for constructing the tree (training).  Test for the rest of 40 percent data.  Find out the accuracy of the classification tree with the help of confusion matrix and F-score. Use the entropy measure for selection of attributes.   \n",
    " </ul>\n",
    "</body>\n"
   ]
  },
  {
   "cell_type": "markdown",
   "metadata": {},
   "source": [
    "<h2 style=\"font-family:serif\"><b>Solution.</b></h2>"
   ]
  },
  {
   "cell_type": "code",
   "execution_count": 2,
   "metadata": {},
   "outputs": [],
   "source": [
    "import numpy as np\n",
    "import pandas as pd\n",
    "from sklearn.tree import DecisionTreeClassifier\n",
    "import seaborn as sns\n",
    "import matplotlib.pyplot as plt"
   ]
  },
  {
   "cell_type": "markdown",
   "metadata": {},
   "source": [
    "<h3 style=\"font-family:serif\"><u><b>Loading Dataset</b></u></h3>\n",
    "<p style=\"font-family:serif ; font-size:16px\"> <b> Classes :</b> 4<br>\n",
    "<b> Number of attributes/features :</b> 6</p>\n",
    "<b>Attribute Values</b>\n",
    "<ul>\n",
    "    <li style=\"font-family:serif ; font-size:16px\"> <b>buying : </b> v-high, high, med, low</li>\n",
    "    <li style=\"font-family:serif ; font-size:16px\"> <b>maint : </b> v-high, high, med, low</li>\n",
    "    <li style=\"font-family:serif ; font-size:16px\"> <b>doors : </b> 2, 3, 4, 5-more</li>\n",
    "    <li style=\"font-family:serif ; font-size:16px\"> <b>persons : </b>2, 4, more</li>\n",
    "    <li style=\"font-family:serif ; font-size:16px\"> <b>lug_boot : </b>small, med, big</li>\n",
    "     <li style=\"font-family:serif ; font-size:16px\"> <b>safety : </b>low, med, high</li>\n",
    "    </ul>\n",
    "    $$\\section{\"Heading\"}%% "
   ]
  },
  {
   "cell_type": "code",
   "execution_count": 3,
   "metadata": {},
   "outputs": [
    {
     "data": {
      "text/html": [
       "<div>\n",
       "<style scoped>\n",
       "    .dataframe tbody tr th:only-of-type {\n",
       "        vertical-align: middle;\n",
       "    }\n",
       "\n",
       "    .dataframe tbody tr th {\n",
       "        vertical-align: top;\n",
       "    }\n",
       "\n",
       "    .dataframe thead th {\n",
       "        text-align: right;\n",
       "    }\n",
       "</style>\n",
       "<table border=\"1\" class=\"dataframe\">\n",
       "  <thead>\n",
       "    <tr style=\"text-align: right;\">\n",
       "      <th></th>\n",
       "      <th>buying</th>\n",
       "      <th>maint</th>\n",
       "      <th>doors</th>\n",
       "      <th>persons</th>\n",
       "      <th>lug_boot</th>\n",
       "      <th>safety</th>\n",
       "      <th>class</th>\n",
       "    </tr>\n",
       "  </thead>\n",
       "  <tbody>\n",
       "    <tr>\n",
       "      <th>0</th>\n",
       "      <td>vhigh</td>\n",
       "      <td>vhigh</td>\n",
       "      <td>2</td>\n",
       "      <td>2</td>\n",
       "      <td>small</td>\n",
       "      <td>low</td>\n",
       "      <td>unacc</td>\n",
       "    </tr>\n",
       "    <tr>\n",
       "      <th>1</th>\n",
       "      <td>vhigh</td>\n",
       "      <td>vhigh</td>\n",
       "      <td>2</td>\n",
       "      <td>2</td>\n",
       "      <td>small</td>\n",
       "      <td>med</td>\n",
       "      <td>unacc</td>\n",
       "    </tr>\n",
       "    <tr>\n",
       "      <th>2</th>\n",
       "      <td>vhigh</td>\n",
       "      <td>vhigh</td>\n",
       "      <td>2</td>\n",
       "      <td>2</td>\n",
       "      <td>small</td>\n",
       "      <td>high</td>\n",
       "      <td>unacc</td>\n",
       "    </tr>\n",
       "    <tr>\n",
       "      <th>3</th>\n",
       "      <td>vhigh</td>\n",
       "      <td>vhigh</td>\n",
       "      <td>2</td>\n",
       "      <td>2</td>\n",
       "      <td>med</td>\n",
       "      <td>low</td>\n",
       "      <td>unacc</td>\n",
       "    </tr>\n",
       "    <tr>\n",
       "      <th>4</th>\n",
       "      <td>vhigh</td>\n",
       "      <td>vhigh</td>\n",
       "      <td>2</td>\n",
       "      <td>2</td>\n",
       "      <td>med</td>\n",
       "      <td>med</td>\n",
       "      <td>unacc</td>\n",
       "    </tr>\n",
       "  </tbody>\n",
       "</table>\n",
       "</div>"
      ],
      "text/plain": [
       "  buying  maint doors persons lug_boot safety  class\n",
       "0  vhigh  vhigh     2       2    small    low  unacc\n",
       "1  vhigh  vhigh     2       2    small    med  unacc\n",
       "2  vhigh  vhigh     2       2    small   high  unacc\n",
       "3  vhigh  vhigh     2       2      med    low  unacc\n",
       "4  vhigh  vhigh     2       2      med    med  unacc"
      ]
     },
     "execution_count": 3,
     "metadata": {},
     "output_type": "execute_result"
    }
   ],
   "source": [
    "data = pd.read_csv(\"car.csv\")\n",
    "data.head()"
   ]
  },
  {
   "cell_type": "raw",
   "metadata": {},
   "source": []
  },
  {
   "cell_type": "markdown",
   "metadata": {},
   "source": [
    "<p style=\"font-family:serif ; font-size:16px\"> <b> Class Distribution:</b></p>\n",
    "<table style=\"font-family:serif ; font-size:16px\">\n",
    "    <tr><th>Class</th><th>Percentage</th></tr>\n",
    "    <tr><td>unacc</td><td>70.023 %</td></tr>\n",
    "    <tr><td>acc</td><td>22.22 %</td></tr>\n",
    "    <tr><td>good</td><td>3.993 %</td></tr>\n",
    "    <tr><td>vgood</td><td>3.762 %</td></tr>\n",
    "</table>"
   ]
  },
  {
   "cell_type": "markdown",
   "metadata": {},
   "source": [
    "<h3 style=\"font-family:serif\"><u><b>Encoding Attributes</b></u></h3>"
   ]
  },
  {
   "cell_type": "code",
   "execution_count": 4,
   "metadata": {},
   "outputs": [],
   "source": [
    "# Encoding Attributes\n",
    "cleanup = {\"buying\":{\"vhigh\":3, \"high\":2, \"med\":1, \"low\":0},\n",
    "           \"maint\" :{\"vhigh\":3, \"high\":2, \"med\":1, \"low\":0},\n",
    "           \"doors\":{\"2\":0, \"3\":1 ,\"4\":2,\"5more\":3},\n",
    "           \"persons\":{\"2\":0, \"4\":1, \"more\":2},\n",
    "           \"lug_boot\":{\"small\":0, \"med\":1, \"big\":2},\n",
    "           \"safety\":{\"low\":0, \"med\":1, \"high\":2},\n",
    "           \"class\":{\"unacc\":0, \"acc\":1, \"good\":2, \"vgood\":3}\n",
    "          }"
   ]
  },
  {
   "cell_type": "code",
   "execution_count": 5,
   "metadata": {},
   "outputs": [],
   "source": [
    "# Encoded Dataframe\n",
    "data.replace(cleanup,inplace=True)"
   ]
  },
  {
   "cell_type": "code",
   "execution_count": 6,
   "metadata": {},
   "outputs": [
    {
     "data": {
      "text/html": [
       "<div>\n",
       "<style scoped>\n",
       "    .dataframe tbody tr th:only-of-type {\n",
       "        vertical-align: middle;\n",
       "    }\n",
       "\n",
       "    .dataframe tbody tr th {\n",
       "        vertical-align: top;\n",
       "    }\n",
       "\n",
       "    .dataframe thead th {\n",
       "        text-align: right;\n",
       "    }\n",
       "</style>\n",
       "<table border=\"1\" class=\"dataframe\">\n",
       "  <thead>\n",
       "    <tr style=\"text-align: right;\">\n",
       "      <th></th>\n",
       "      <th>buying</th>\n",
       "      <th>maint</th>\n",
       "      <th>doors</th>\n",
       "      <th>persons</th>\n",
       "      <th>lug_boot</th>\n",
       "      <th>safety</th>\n",
       "      <th>class</th>\n",
       "    </tr>\n",
       "  </thead>\n",
       "  <tbody>\n",
       "    <tr>\n",
       "      <th>0</th>\n",
       "      <td>3</td>\n",
       "      <td>3</td>\n",
       "      <td>0</td>\n",
       "      <td>0</td>\n",
       "      <td>0</td>\n",
       "      <td>0</td>\n",
       "      <td>0</td>\n",
       "    </tr>\n",
       "    <tr>\n",
       "      <th>1</th>\n",
       "      <td>3</td>\n",
       "      <td>3</td>\n",
       "      <td>0</td>\n",
       "      <td>0</td>\n",
       "      <td>0</td>\n",
       "      <td>1</td>\n",
       "      <td>0</td>\n",
       "    </tr>\n",
       "    <tr>\n",
       "      <th>2</th>\n",
       "      <td>3</td>\n",
       "      <td>3</td>\n",
       "      <td>0</td>\n",
       "      <td>0</td>\n",
       "      <td>0</td>\n",
       "      <td>2</td>\n",
       "      <td>0</td>\n",
       "    </tr>\n",
       "    <tr>\n",
       "      <th>3</th>\n",
       "      <td>3</td>\n",
       "      <td>3</td>\n",
       "      <td>0</td>\n",
       "      <td>0</td>\n",
       "      <td>1</td>\n",
       "      <td>0</td>\n",
       "      <td>0</td>\n",
       "    </tr>\n",
       "    <tr>\n",
       "      <th>4</th>\n",
       "      <td>3</td>\n",
       "      <td>3</td>\n",
       "      <td>0</td>\n",
       "      <td>0</td>\n",
       "      <td>1</td>\n",
       "      <td>1</td>\n",
       "      <td>0</td>\n",
       "    </tr>\n",
       "  </tbody>\n",
       "</table>\n",
       "</div>"
      ],
      "text/plain": [
       "   buying  maint  doors  persons  lug_boot  safety  class\n",
       "0       3      3      0        0         0       0      0\n",
       "1       3      3      0        0         0       1      0\n",
       "2       3      3      0        0         0       2      0\n",
       "3       3      3      0        0         1       0      0\n",
       "4       3      3      0        0         1       1      0"
      ]
     },
     "execution_count": 6,
     "metadata": {},
     "output_type": "execute_result"
    }
   ],
   "source": [
    "data.head()"
   ]
  },
  {
   "cell_type": "code",
   "execution_count": 7,
   "metadata": {},
   "outputs": [],
   "source": [
    "from sklearn.model_selection import train_test_split as spl"
   ]
  },
  {
   "cell_type": "markdown",
   "metadata": {},
   "source": [
    "<h3 style=\"font-family:serif\"><u><b>Class-wise Train-Test Split</b></u></h3>"
   ]
  },
  {
   "cell_type": "code",
   "execution_count": 8,
   "metadata": {},
   "outputs": [],
   "source": [
    "# Method for Class-wise Train-Test Split\n",
    "def split(data,train_split):\n",
    "    # class-wise filtering\n",
    "    c1 = data.where(data[\"class\"]==0)\n",
    "    c1=c1.dropna(how=\"all\")\n",
    "    c2 = data.where(data[\"class\"]==1)\n",
    "    c2=c2.dropna(how=\"all\")\n",
    "    c3 = data.where(data[\"class\"]==2)\n",
    "    c3=c3.dropna(how=\"all\")\n",
    "    c4 = data.where(data[\"class\"]==3)\n",
    "    c4=c4.dropna(how=\"all\")\n",
    "    \n",
    "    # Class-wise Train-Test Split\n",
    "    c1_train,c1_test,c1_train_label,c1_test_label = spl(c1.iloc[:,0:6].values,c1.iloc[:,6].values,test_size=train_split,shuffle=True)\n",
    "   \n",
    "    c2_train,c2_test,c2_train_label,c2_test_label = spl(c2.iloc[:,0:6].values,c2.iloc[:,6].values,test_size=train_split,shuffle=True)\n",
    "    c3_train,c3_test,c3_train_label,c3_test_label = spl(c3.iloc[:,0:6].values,c3.iloc[:,6].values,test_size=train_split,shuffle=True)\n",
    "    c4_train,c4_test,c4_train_label,c4_test_label = spl(c4.iloc[:,0:6].values,c4.iloc[:,6].values,test_size=train_split,shuffle=True)\n",
    "    \n",
    "    x_train = np.vstack((c1_train,c2_train,c3_train,c4_train))\n",
    "    x_test = np.vstack((c1_test,c2_test,c3_test,c4_test))\n",
    "    y_train = np.concatenate((c1_train_label,c2_train_label,c3_train_label,c4_train_label))\n",
    "    y_test = np.concatenate((c1_test_label,c2_test_label,c3_test_label,c4_test_label))\n",
    "    \n",
    "    return x_train,x_test,y_train,y_test\n",
    "    \n",
    "    \n"
   ]
  },
  {
   "cell_type": "code",
   "execution_count": 9,
   "metadata": {},
   "outputs": [],
   "source": [
    "# 60-40 Train-Test Split\n",
    "x_train,x_test,y_train,y_test = split(data,0.6)"
   ]
  },
  {
   "cell_type": "code",
   "execution_count": 10,
   "metadata": {},
   "outputs": [],
   "source": [
    "# Decision Tree classifier with Entropy base feature selection\n",
    "tree = DecisionTreeClassifier(criterion=\"entropy\")"
   ]
  },
  {
   "cell_type": "code",
   "execution_count": 11,
   "metadata": {},
   "outputs": [],
   "source": [
    "# Training the Classifier\n",
    "reg = tree.fit(x_train,y_train)\n"
   ]
  },
  {
   "cell_type": "code",
   "execution_count": 12,
   "metadata": {},
   "outputs": [
    {
     "data": {
      "text/plain": [
       "0.9605009633911368"
      ]
     },
     "execution_count": 12,
     "metadata": {},
     "output_type": "execute_result"
    }
   ],
   "source": [
    "# Predictions for 40% test set\n",
    "y_pred=reg.predict(x_test)\n",
    "# Model Score\n",
    "reg.score(x_test,y_test)"
   ]
  },
  {
   "cell_type": "markdown",
   "metadata": {},
   "source": [
    "<h3 style=\"font-family:serif\"><u><b>Confusion Matrix</b></u></h3>\n",
    "<p style=\"font-family:serif; font-size:15px\">\n",
    "Diagonal elements of the Confusion Matrix shows the number of True positives for each label.\n",
    "   \n",
    "</p>"
   ]
  },
  {
   "cell_type": "code",
   "execution_count": 13,
   "metadata": {},
   "outputs": [],
   "source": [
    "# Confusion Matrix and F-score Metrics\n",
    "from sklearn.metrics import confusion_matrix,classification_report,f1_score"
   ]
  },
  {
   "cell_type": "code",
   "execution_count": 14,
   "metadata": {},
   "outputs": [
    {
     "data": {
      "image/png": "[encoded data removed]",
      "text/plain": [
       "<Figure size 432x288 with 2 Axes>"
      ]
     },
     "metadata": {
      "needs_background": "light"
     },
     "output_type": "display_data"
    }
   ],
   "source": [
    "arr = confusion_matrix(y_test,y_pred)\n",
    "sns.heatmap(arr,xticklabels=True,yticklabels=True,annot=True,fmt=\".4g\",)\n",
    "plt.title(\"Confusion Matrix\")\n",
    "plt.xlabel(\"y-pred\")\n",
    "plt.ylabel(\"y-true\")\n",
    "plt.show()\n"
   ]
  },
  {
   "cell_type": "code",
   "execution_count": 15,
   "metadata": {},
   "outputs": [
    {
     "name": "stdout",
     "output_type": "stream",
     "text": [
      "Model accuracy (Confusion Matrix) : 0.9605009633911368\n"
     ]
    }
   ],
   "source": [
    "# Accuracy via Confusion Matrix\n",
    "arr = np.array(arr)\n",
    "\n",
    "# Accuray \n",
    "acc = np.sum(arr.diagonal())/np.sum(arr)\n",
    "print(f\"Model accuracy (Confusion Matrix) : {acc}\")"
   ]
  },
  {
   "cell_type": "code",
   "execution_count": 16,
   "metadata": {},
   "outputs": [
    {
     "name": "stdout",
     "output_type": "stream",
     "text": [
      "F-Score Metric : \n",
      "              precision    recall  f1-score   support\n",
      "\n",
      "       unacc       0.98      0.99      0.99       726\n",
      "         acc       0.92      0.91      0.92       231\n",
      "        good       0.81      0.71      0.76        42\n",
      "       vgood       0.88      0.95      0.91        39\n",
      "\n",
      "    accuracy                           0.96      1038\n",
      "   macro avg       0.90      0.89      0.89      1038\n",
      "weighted avg       0.96      0.96      0.96      1038\n",
      "\n"
     ]
    }
   ],
   "source": [
    "#F-Score Metric\n",
    "print(\"F-Score Metric : \")\n",
    "print(classification_report(y_test,y_pred,target_names=[\"unacc\",\"acc\",\"good\",\"vgood\"]))\n"
   ]
  },
  {
   "cell_type": "code",
   "execution_count": 17,
   "metadata": {},
   "outputs": [],
   "source": [
    "def Process(iters,criterion,train_split):\n",
    "    avg_acc_cm=0 # cummulative Accuracy ( Confusion Matrix)\n",
    "    avg_acc_fs=0 # cummulative Accuracy (F-Score)\n",
    "    for _ in range(iters):\n",
    "        x_train,x_test,y_train,y_test = split(data,train_split)\n",
    "        tree = DecisionTreeClassifier(criterion=criterion,random_state=0)\n",
    "        reg = tree.fit(x_train,y_train)\n",
    "        y_pred=reg.predict(x_test)\n",
    "        arr = confusion_matrix(y_test,y_pred)\n",
    "        \n",
    "        if(iters==1):\n",
    "            sns.heatmap(arr,xticklabels=False,yticklabels=False,annot=True,fmt=\".4g\",)\n",
    "            plt.xlabel(\"y-pred\")\n",
    "            plt.ylabel(\"y-true\")\n",
    "            plt.title(\"Confusion Matrix\")\n",
    "            plt.show()\n",
    "            \n",
    "        arr = np.array(arr)\n",
    "        acc = np.sum(arr.diagonal())/np.sum(arr)\n",
    "        avg_acc_cm+=acc\n",
    "        if(iters==1):\n",
    "            # F-Score Metric\n",
    "            print(\"F-Score Metric : \")\n",
    "            print(classification_report(y_test,y_pred,target_names=[\"unacc\",\"acc\",\"good\",\"vgood\"]))\n",
    "\n",
    "        avg_acc_fs+=f1_score(y_test,y_pred,average=\"macro\")\n",
    "    avg_acc_cm/=iters\n",
    "    avg_acc_fs/=iters\n",
    "    \n",
    "    return avg_acc_cm,avg_acc_fs"
   ]
  },
  {
   "cell_type": "code",
   "execution_count": 19,
   "metadata": {},
   "outputs": [
    {
     "name": "stdout",
     "output_type": "stream",
     "text": [
      "Average Confusion Matrix accuracy with Entropy : 97.08%\n",
      "Average F Score accuracy with Entropy: 93.0%\n"
     ]
    }
   ],
   "source": [
    "avg_cm,avg_fs = Process(20,\"entropy\",0.4)\n",
    "print(f\"Average Confusion Matrix accuracy with Entropy : {round(avg_cm*100,2)}%\")\n",
    "print(f\"Average F Score accuracy with Entropy: {round(avg_fs*100,2)}%\")"
   ]
  },
  {
   "cell_type": "code",
   "execution_count": null,
   "metadata": {},
   "outputs": [],
   "source": []
  },
  {
   "cell_type": "code",
   "execution_count": 20,
   "metadata": {},
   "outputs": [
    {
     "data": {
      "image/png": "[encoded data removed]",
      "text/plain": [
       "<Figure size 432x288 with 2 Axes>"
      ]
     },
     "metadata": {
      "needs_background": "light"
     },
     "output_type": "display_data"
    },
    {
     "name": "stdout",
     "output_type": "stream",
     "text": [
      "F-Score Metric : \n",
      "              precision    recall  f1-score   support\n",
      "\n",
      "       unacc       0.99      0.99      0.99       484\n",
      "         acc       0.94      0.95      0.94       154\n",
      "        good       0.96      0.93      0.95        28\n",
      "       vgood       1.00      0.88      0.94        26\n",
      "\n",
      "    accuracy                           0.97       692\n",
      "   macro avg       0.97      0.94      0.95       692\n",
      "weighted avg       0.97      0.97      0.97       692\n",
      "\n",
      "Confusion Matrix accuracy with Gini : 97.4%\n",
      "F Score accuracy with Gini: 95.34%\n"
     ]
    }
   ],
   "source": [
    "avg_cm,avg_fs = Process(1,\"gini\",0.4)\n",
    "print(f\"Confusion Matrix accuracy with Gini : {round(avg_cm*100,2)}%\")\n",
    "print(f\"F Score accuracy with Gini: {round(avg_fs*100,2)}%\")"
   ]
  },
  {
   "cell_type": "code",
   "execution_count": null,
   "metadata": {},
   "outputs": [],
   "source": []
  },
  {
   "cell_type": "code",
   "execution_count": 21,
   "metadata": {},
   "outputs": [
    {
     "name": "stdout",
     "output_type": "stream",
     "text": [
      "Average Confusion Matrix accuracy with Gini : 97.2%\n",
      "Average F Score accuracy with Gini: 93.07%\n"
     ]
    }
   ],
   "source": [
    "avg_cm,avg_fs = Process(20,\"gini\",0.4)\n",
    "print(f\"Average Confusion Matrix accuracy with Gini : {round(avg_cm*100,2)}%\")\n",
    "print(f\"Average F Score accuracy with Gini: {round(avg_fs*100,2)}%\")"
   ]
  },
  {
   "cell_type": "code",
   "execution_count": null,
   "metadata": {},
   "outputs": [],
   "source": []
  },
  {
   "cell_type": "code",
   "execution_count": 22,
   "metadata": {},
   "outputs": [
    {
     "data": {
      "image/png": "[encoded data removed]",
      "text/plain": [
       "<Figure size 432x288 with 2 Axes>"
      ]
     },
     "metadata": {
      "needs_background": "light"
     },
     "output_type": "display_data"
    },
    {
     "name": "stdout",
     "output_type": "stream",
     "text": [
      "F-Score Metric : \n",
      "              precision    recall  f1-score   support\n",
      "\n",
      "       unacc       1.00      1.00      1.00       363\n",
      "         acc       0.97      0.96      0.96       116\n",
      "        good       0.79      0.90      0.84        21\n",
      "       vgood       0.84      0.80      0.82        20\n",
      "\n",
      "    accuracy                           0.98       520\n",
      "   macro avg       0.90      0.91      0.91       520\n",
      "weighted avg       0.98      0.98      0.98       520\n",
      "\n",
      "Confusion Matrix accuracy with Entropy : 97.69%\n",
      "F Score accuracy with Entropy: 90.62%\n"
     ]
    }
   ],
   "source": [
    "avg_cm,avg_fs = Process(1,\"entropy\",0.3)\n",
    "print(f\"Confusion Matrix accuracy with Entropy : {round(avg_cm*100,2)}%\")\n",
    "print(f\"F Score accuracy with Entropy: {round(avg_fs*100,2)}%\")"
   ]
  },
  {
   "cell_type": "code",
   "execution_count": null,
   "metadata": {},
   "outputs": [],
   "source": []
  },
  {
   "cell_type": "code",
   "execution_count": 23,
   "metadata": {},
   "outputs": [
    {
     "name": "stdout",
     "output_type": "stream",
     "text": [
      "Average Confusion Matrix accuracy with Entropy : 97.53%\n",
      "Average F Score accuracy with Entropy: 94.07%\n"
     ]
    }
   ],
   "source": [
    "avg_cm,avg_fs = Process(20,\"entropy\",0.3)\n",
    "print(f\"Average Confusion Matrix accuracy with Entropy : {round(avg_cm*100,2)}%\")\n",
    "print(f\"Average F Score accuracy with Entropy: {round(avg_fs*100,2)}%\")"
   ]
  },
  {
   "cell_type": "code",
   "execution_count": null,
   "metadata": {},
   "outputs": [],
   "source": []
  },
  {
   "cell_type": "code",
   "execution_count": 24,
   "metadata": {},
   "outputs": [
    {
     "data": {
      "image/png": "[encoded data removed]",
      "text/plain": [
       "<Figure size 432x288 with 2 Axes>"
      ]
     },
     "metadata": {
      "needs_background": "light"
     },
     "output_type": "display_data"
    },
    {
     "name": "stdout",
     "output_type": "stream",
     "text": [
      "F-Score Metric : \n",
      "              precision    recall  f1-score   support\n",
      "\n",
      "       unacc       1.00      0.99      1.00       242\n",
      "         acc       0.94      0.96      0.95        77\n",
      "        good       0.80      0.86      0.83        14\n",
      "       vgood       0.92      0.85      0.88        13\n",
      "\n",
      "    accuracy                           0.97       346\n",
      "   macro avg       0.91      0.91      0.91       346\n",
      "weighted avg       0.97      0.97      0.97       346\n",
      "\n",
      "Confusion Matrix accuracy with Entropy : 97.4%\n",
      "F Score accuracy with Entropy: 91.3%\n"
     ]
    }
   ],
   "source": [
    "avg_cm,avg_fs = Process(1,\"entropy\",0.2)\n",
    "print(f\"Confusion Matrix accuracy with Entropy : {round(avg_cm*100,2)}%\")\n",
    "print(f\"F Score accuracy with Entropy: {round(avg_fs*100,2)}%\")"
   ]
  },
  {
   "cell_type": "code",
   "execution_count": null,
   "metadata": {},
   "outputs": [],
   "source": []
  },
  {
   "cell_type": "code",
   "execution_count": 25,
   "metadata": {},
   "outputs": [
    {
     "name": "stdout",
     "output_type": "stream",
     "text": [
      "Average Confusion Matrix accuracy with Entropy : 97.8%\n",
      "Average F Score accuracy with Entropy: 94.87%\n"
     ]
    }
   ],
   "source": [
    "avg_cm,avg_fs = Process(20,\"entropy\",0.2)\n",
    "print(f\"Average Confusion Matrix accuracy with Entropy : {round(avg_cm*100,2)}%\")\n",
    "print(f\"Average F Score accuracy with Entropy: {round(avg_fs*100,2)}%\")"
   ]
  },
  {
   "cell_type": "code",
   "execution_count": null,
   "metadata": {},
   "outputs": [],
   "source": []
  },
  {
   "cell_type": "code",
   "execution_count": 26,
   "metadata": {},
   "outputs": [
    {
     "data": {
      "image/png": "[encoded data removed]",
      "text/plain": [
       "<Figure size 432x288 with 2 Axes>"
      ]
     },
     "metadata": {
      "needs_background": "light"
     },
     "output_type": "display_data"
    },
    {
     "name": "stdout",
     "output_type": "stream",
     "text": [
      "F-Score Metric : \n",
      "              precision    recall  f1-score   support\n",
      "\n",
      "       unacc       0.99      0.99      0.99       363\n",
      "         acc       0.93      0.96      0.94       116\n",
      "        good       0.90      0.86      0.88        21\n",
      "       vgood       1.00      0.90      0.95        20\n",
      "\n",
      "    accuracy                           0.97       520\n",
      "   macro avg       0.95      0.93      0.94       520\n",
      "weighted avg       0.97      0.97      0.97       520\n",
      "\n",
      "Confusion Matrix accuracy with Gini : 97.12%\n",
      "F Score accuracy with Gini: 93.84%\n"
     ]
    }
   ],
   "source": [
    "avg_cm,avg_fs = Process(1,\"gini\",0.3)\n",
    "print(f\"Confusion Matrix accuracy with Gini : {round(avg_cm*100,2)}%\")\n",
    "print(f\"F Score accuracy with Gini: {round(avg_fs*100,2)}%\")"
   ]
  },
  {
   "cell_type": "code",
   "execution_count": null,
   "metadata": {},
   "outputs": [],
   "source": []
  },
  {
   "cell_type": "code",
   "execution_count": 27,
   "metadata": {},
   "outputs": [
    {
     "name": "stdout",
     "output_type": "stream",
     "text": [
      "Average Confusion Matrix accuracy with Gini : 97.59%\n",
      "Average F Score accuracy with Gini: 94.36%\n"
     ]
    }
   ],
   "source": [
    "avg_cm,avg_fs = Process(20,\"gini\",0.3)\n",
    "print(f\"Average Confusion Matrix accuracy with Gini : {round(avg_cm*100,2)}%\")\n",
    "print(f\"Average F Score accuracy with Gini: {round(avg_fs*100,2)}%\")"
   ]
  },
  {
   "cell_type": "code",
   "execution_count": null,
   "metadata": {},
   "outputs": [],
   "source": []
  },
  {
   "cell_type": "code",
   "execution_count": 28,
   "metadata": {},
   "outputs": [
    {
     "data": {
      "image/png": "[encoded data removed]",
      "text/plain": [
       "<Figure size 432x288 with 2 Axes>"
      ]
     },
     "metadata": {
      "needs_background": "light"
     },
     "output_type": "display_data"
    },
    {
     "name": "stdout",
     "output_type": "stream",
     "text": [
      "F-Score Metric : \n",
      "              precision    recall  f1-score   support\n",
      "\n",
      "       unacc       1.00      0.99      0.99       242\n",
      "         acc       0.94      1.00      0.97        77\n",
      "        good       0.93      0.93      0.93        14\n",
      "       vgood       1.00      0.85      0.92        13\n",
      "\n",
      "    accuracy                           0.98       346\n",
      "   macro avg       0.97      0.94      0.95       346\n",
      "weighted avg       0.98      0.98      0.98       346\n",
      "\n",
      "Confusion Matrix accuracy with Gini : 98.27%\n",
      "F Score accuracy with Gini: 95.19%\n"
     ]
    }
   ],
   "source": [
    "avg_cm,avg_fs = Process(1,\"gini\",0.2)\n",
    "print(f\"Confusion Matrix accuracy with Gini : {round(avg_cm*100,2)}%\")\n",
    "print(f\"F Score accuracy with Gini: {round(avg_fs*100,2)}%\")"
   ]
  },
  {
   "cell_type": "code",
   "execution_count": null,
   "metadata": {},
   "outputs": [],
   "source": []
  },
  {
   "cell_type": "code",
   "execution_count": 30,
   "metadata": {},
   "outputs": [
    {
     "name": "stdout",
     "output_type": "stream",
     "text": [
      "Average Confusion Matrix accuracy with Gini : 97.8%\n",
      "Average F Score accuracy with Gini: 95.31%\n"
     ]
    }
   ],
   "source": [
    "avg_cm,avg_fs = Process(20,\"gini\",0.2)\n",
    "print(f\"Average Confusion Matrix accuracy with Gini : {round(avg_cm*100,2)}%\")\n",
    "print(f\"Average F Score accuracy with Gini: {round(avg_fs*100,2)}%\")"
   ]
  },
  {
   "cell_type": "code",
   "execution_count": null,
   "metadata": {},
   "outputs": [],
   "source": []
  },
  {
   "cell_type": "code",
   "execution_count": 31,
   "metadata": {},
   "outputs": [
    {
     "data": {
      "image/png": "[encoded data removed]",
      "text/plain": [
       "<Figure size 432x288 with 2 Axes>"
      ]
     },
     "metadata": {
      "needs_background": "light"
     },
     "output_type": "display_data"
    },
    {
     "name": "stdout",
     "output_type": "stream",
     "text": [
      "F-Score Metric : \n",
      "              precision    recall  f1-score   support\n",
      "\n",
      "       unacc       0.99      1.00      0.99       242\n",
      "         acc       0.94      0.95      0.94        77\n",
      "        good       0.92      0.79      0.85        14\n",
      "       vgood       1.00      0.92      0.96        13\n",
      "\n",
      "    accuracy                           0.97       346\n",
      "   macro avg       0.96      0.91      0.93       346\n",
      "weighted avg       0.97      0.97      0.97       346\n",
      "\n",
      "Confusion Matrix accuracy with Gini : 97.4%\n",
      "F Score accuracy with Gini: 93.5%\n"
     ]
    }
   ],
   "source": [
    "avg_cm,avg_fs = Process(1,\"gini\",0.2)\n",
    "print(f\"Confusion Matrix accuracy with Gini : {round(avg_cm*100,2)}%\")\n",
    "print(f\"F Score accuracy with Gini: {round(avg_fs*100,2)}%\")"
   ]
  },
  {
   "cell_type": "code",
   "execution_count": 32,
   "metadata": {},
   "outputs": [
    {
     "data": {
      "image/png": "[encoded data removed]",
      "text/plain": [
       "<Figure size 432x288 with 2 Axes>"
      ]
     },
     "metadata": {
      "needs_background": "light"
     },
     "output_type": "display_data"
    },
    {
     "name": "stdout",
     "output_type": "stream",
     "text": [
      "F-Score Metric : \n",
      "              precision    recall  f1-score   support\n",
      "\n",
      "       unacc       0.98      0.98      0.98       847\n",
      "         acc       0.90      0.90      0.90       269\n",
      "        good       0.77      0.76      0.76        49\n",
      "       vgood       0.91      0.93      0.92        46\n",
      "\n",
      "    accuracy                           0.95      1211\n",
      "   macro avg       0.89      0.89      0.89      1211\n",
      "weighted avg       0.95      0.95      0.95      1211\n",
      "\n",
      "Confusion Matrix accuracy with Gini : 95.21%\n",
      "F Score accuracy with Gini: 89.27%\n"
     ]
    }
   ],
   "source": [
    "avg_cm,avg_fs = Process(1,\"gini\",0.7)\n",
    "print(f\"Confusion Matrix accuracy with Gini : {round(avg_cm*100,2)}%\")\n",
    "print(f\"F Score accuracy with Gini: {round(avg_fs*100,2)}%\")"
   ]
  },
  {
   "cell_type": "code",
   "execution_count": null,
   "metadata": {},
   "outputs": [],
   "source": []
  }
 ],
 "metadata": {
  "kernelspec": {
   "display_name": "Python 3",
   "language": "python",
   "name": "python3"
  },
  "language_info": {
   "codemirror_mode": {
    "name": "ipython",
    "version": 3
   },
   "file_extension": ".py",
   "mimetype": "text/x-python",
   "name": "python",
   "nbconvert_exporter": "python",
   "pygments_lexer": "ipython3",
   "version": "3.7.6"
  }
 },
 "nbformat": 4,
 "nbformat_minor": 4
}
